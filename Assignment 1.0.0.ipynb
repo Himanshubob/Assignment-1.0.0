{
 "cells": [
  {
   "cell_type": "markdown",
   "id": "d21af230",
   "metadata": {},
   "source": [
    "#  Q 1.. who developed pythan programing language ?"
   ]
  },
  {
   "cell_type": "markdown",
   "id": "db1ed919",
   "metadata": {},
   "source": [
    "# Python was created by Guido van Rossum, and first released on February 20, 1991. While you may know the python as a large snake, the name of the Python programming language comes from an old BBC television comedy sketch series called Monty Python's Flying Circus."
   ]
  },
  {
   "cell_type": "markdown",
   "id": "dd02a811",
   "metadata": {},
   "source": [
    "#  Q2.. which type of programming does python support?"
   ]
  },
  {
   "cell_type": "markdown",
   "id": "95e0ea41",
   "metadata": {},
   "source": [
    "#  ans ..Python is an interpreted programming language, supporting object-oriented, structured, and functional programming"
   ]
  },
  {
   "cell_type": "markdown",
   "id": "eb158799",
   "metadata": {},
   "source": [
    "# Q3 is pythan case sensitive when dealing with identifiers?"
   ]
  },
  {
   "cell_type": "markdown",
   "id": "4a5637b5",
   "metadata": {},
   "source": [
    "#  ans..Yes, Python is a case-sensitive language, i.e., it treats uppercase and lowercase characters differently. This applies to identifiers too. You must avoid using the same name with different cases while naming identifiers."
   ]
  },
  {
   "cell_type": "markdown",
   "id": "d3dd55e2",
   "metadata": {},
   "source": [
    "# Q 4.. what is the correct extension of the python file?"
   ]
  },
  {
   "cell_type": "markdown",
   "id": "6ab0d2d6",
   "metadata": {},
   "source": [
    "# ans..\" .py \" is the correct extension of the Python fil"
   ]
  },
  {
   "cell_type": "markdown",
   "id": "6ceac694",
   "metadata": {},
   "source": [
    "# Q5.. is python code compiled or interpreted?"
   ]
  },
  {
   "cell_type": "markdown",
   "id": "74a3f47a",
   "metadata": {},
   "source": [
    "# ans..Python is both compiled as well as an interpreted language"
   ]
  },
  {
   "cell_type": "markdown",
   "id": "c508e78d",
   "metadata": {},
   "source": [
    "#  Q6.. Nmae a few blocks of code used to define in python language?"
   ]
  },
  {
   "cell_type": "markdown",
   "id": "a7666ed9",
   "metadata": {},
   "source": [
    "# ans..The following are blocks: a module, a function body, and a class definition"
   ]
  },
  {
   "cell_type": "markdown",
   "id": "ccdbd10d",
   "metadata": {},
   "source": [
    "# Q7.. state a character used to given single line comments in python?"
   ]
  },
  {
   "cell_type": "markdown",
   "id": "be170d5f",
   "metadata": {},
   "source": [
    "# ans.. single line comment used to \"# \""
   ]
  },
  {
   "cell_type": "markdown",
   "id": "8e86c12f",
   "metadata": {},
   "source": [
    "# Q8.. Mention function which can help  us to find the version of python that we are currently working on?"
   ]
  },
  {
   "cell_type": "markdown",
   "id": "845ffeb6",
   "metadata": {},
   "source": [
    "# ans..The function sys. version can help us to find the version of python that we are currently working o"
   ]
  },
  {
   "cell_type": "markdown",
   "id": "6ea0eb28",
   "metadata": {},
   "source": [
    "# Q9.. python supports the createion of anonymous function at runtime , using a constuct callled_____?"
   ]
  },
  {
   "cell_type": "markdown",
   "id": "c9573067",
   "metadata": {},
   "source": [
    "# ans..lambda"
   ]
  },
  {
   "cell_type": "markdown",
   "id": "5e6596e1",
   "metadata": {},
   "source": [
    "# Q10.. what does pip stand for python ?\n"
   ]
  },
  {
   "cell_type": "markdown",
   "id": "14260644",
   "metadata": {},
   "source": [
    "# ans..PIP is a recursive acronym for “Preferred Installer Program” or PIP Installs Packages. It is a command-line utility that installs, reinstalls, or uninstalls PyPI packages with one simple command: pip."
   ]
  },
  {
   "cell_type": "markdown",
   "id": "eea32052",
   "metadata": {},
   "source": [
    "# Q11.. Mention a few builin function in python?"
   ]
  },
  {
   "cell_type": "markdown",
   "id": "0890946a",
   "metadata": {},
   "source": [
    "# ans.. print(),toye(),abc()"
   ]
  },
  {
   "cell_type": "markdown",
   "id": "3ed52899",
   "metadata": {},
   "source": [
    "# Q12..what is the maximum possible length of an identifier in python ?\n"
   ]
  },
  {
   "cell_type": "markdown",
   "id": "4c68e0bf",
   "metadata": {},
   "source": [
    "# ans.. 79 characters"
   ]
  },
  {
   "cell_type": "markdown",
   "id": "47e99a3a",
   "metadata": {},
   "source": [
    "# Q13..what are the benefits of using python ?"
   ]
  },
  {
   "cell_type": "markdown",
   "id": "15bdbd18",
   "metadata": {},
   "source": [
    "#  bennefits of using python  1.fast language 2. easy language 3. resourse avlbale"
   ]
  },
  {
   "cell_type": "markdown",
   "id": "565026fc",
   "metadata": {},
   "source": [
    "# Q14... How is memory managed in python?"
   ]
  },
  {
   "cell_type": "markdown",
   "id": "a8a3dd5a",
   "metadata": {},
   "source": [
    "# ans..Memory management in Python involves a private heap containing all Python objects and data structures. "
   ]
  },
  {
   "cell_type": "markdown",
   "id": "05808e18",
   "metadata": {},
   "source": [
    "# Q15..How to install python on windows and set path variables?"
   ]
  },
  {
   "cell_type": "markdown",
   "id": "2041a6f6",
   "metadata": {},
   "source": [
    "# ans used to the pycham .and The PATH variable is a list of directories where each directory contains the executable file for a command"
   ]
  },
  {
   "cell_type": "markdown",
   "id": "449bad55",
   "metadata": {},
   "source": [
    "# Q16.. Is indentation required in python?"
   ]
  },
  {
   "cell_type": "markdown",
   "id": "9df2337e",
   "metadata": {},
   "source": [
    "# ans..The first line of python code cannot have an indentation. Indentation is mandatory in python to define the blocks of statements. The number of spaces must be uniform in a block of code. It is preferred to use whitespaces instead of tabs to indent in python"
   ]
  },
  {
   "cell_type": "code",
   "execution_count": null,
   "id": "801e1c7e",
   "metadata": {},
   "outputs": [],
   "source": []
  }
 ],
 "metadata": {
  "kernelspec": {
   "display_name": "Python 3 (ipykernel)",
   "language": "python",
   "name": "python3"
  },
  "language_info": {
   "codemirror_mode": {
    "name": "ipython",
    "version": 3
   },
   "file_extension": ".py",
   "mimetype": "text/x-python",
   "name": "python",
   "nbconvert_exporter": "python",
   "pygments_lexer": "ipython3",
   "version": "3.10.9"
  }
 },
 "nbformat": 4,
 "nbformat_minor": 5
}
